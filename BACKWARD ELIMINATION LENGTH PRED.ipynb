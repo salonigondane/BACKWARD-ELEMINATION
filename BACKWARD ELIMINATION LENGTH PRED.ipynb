{
 "cells": [
  {
   "cell_type": "markdown",
   "id": "ab6663c4",
   "metadata": {},
   "source": [
    "# read dataset"
   ]
  },
  {
   "cell_type": "code",
   "execution_count": 1,
   "id": "5a8cc394",
   "metadata": {},
   "outputs": [],
   "source": [
    "import pandas as pd\n",
    "A = pd.read_csv(\"C:/Users/Dell/Downloads/Cars93.csv\")"
   ]
  },
  {
   "cell_type": "code",
   "execution_count": 2,
   "id": "007eb898",
   "metadata": {},
   "outputs": [
    {
     "data": {
      "text/html": [
       "<div>\n",
       "<style scoped>\n",
       "    .dataframe tbody tr th:only-of-type {\n",
       "        vertical-align: middle;\n",
       "    }\n",
       "\n",
       "    .dataframe tbody tr th {\n",
       "        vertical-align: top;\n",
       "    }\n",
       "\n",
       "    .dataframe thead th {\n",
       "        text-align: right;\n",
       "    }\n",
       "</style>\n",
       "<table border=\"1\" class=\"dataframe\">\n",
       "  <thead>\n",
       "    <tr style=\"text-align: right;\">\n",
       "      <th></th>\n",
       "      <th>id</th>\n",
       "      <th>Manufacturer</th>\n",
       "      <th>Model</th>\n",
       "      <th>Type</th>\n",
       "      <th>Min.Price</th>\n",
       "      <th>Price</th>\n",
       "      <th>Max.Price</th>\n",
       "      <th>MPG.city</th>\n",
       "      <th>MPG.highway</th>\n",
       "      <th>AirBags</th>\n",
       "      <th>...</th>\n",
       "      <th>Passengers</th>\n",
       "      <th>Length</th>\n",
       "      <th>Wheelbase</th>\n",
       "      <th>Width</th>\n",
       "      <th>Turn.circle</th>\n",
       "      <th>Rear.seat.room</th>\n",
       "      <th>Luggage.room</th>\n",
       "      <th>Weight</th>\n",
       "      <th>Origin</th>\n",
       "      <th>Make</th>\n",
       "    </tr>\n",
       "  </thead>\n",
       "  <tbody>\n",
       "    <tr>\n",
       "      <th>0</th>\n",
       "      <td>1</td>\n",
       "      <td>Acura</td>\n",
       "      <td>Integra</td>\n",
       "      <td>Small</td>\n",
       "      <td>12.9</td>\n",
       "      <td>15.9</td>\n",
       "      <td>18.8</td>\n",
       "      <td>25</td>\n",
       "      <td>31</td>\n",
       "      <td>None</td>\n",
       "      <td>...</td>\n",
       "      <td>5</td>\n",
       "      <td>177</td>\n",
       "      <td>102</td>\n",
       "      <td>68</td>\n",
       "      <td>37</td>\n",
       "      <td>26.5</td>\n",
       "      <td>11.0</td>\n",
       "      <td>2705</td>\n",
       "      <td>non-USA</td>\n",
       "      <td>Acura Integra</td>\n",
       "    </tr>\n",
       "    <tr>\n",
       "      <th>1</th>\n",
       "      <td>2</td>\n",
       "      <td>Acura</td>\n",
       "      <td>Legend</td>\n",
       "      <td>Midsize</td>\n",
       "      <td>29.2</td>\n",
       "      <td>33.9</td>\n",
       "      <td>38.7</td>\n",
       "      <td>18</td>\n",
       "      <td>25</td>\n",
       "      <td>Driver &amp; Passenger</td>\n",
       "      <td>...</td>\n",
       "      <td>5</td>\n",
       "      <td>195</td>\n",
       "      <td>115</td>\n",
       "      <td>71</td>\n",
       "      <td>38</td>\n",
       "      <td>30.0</td>\n",
       "      <td>15.0</td>\n",
       "      <td>3560</td>\n",
       "      <td>non-USA</td>\n",
       "      <td>Acura Legend</td>\n",
       "    </tr>\n",
       "  </tbody>\n",
       "</table>\n",
       "<p>2 rows × 28 columns</p>\n",
       "</div>"
      ],
      "text/plain": [
       "   id Manufacturer    Model     Type  Min.Price  Price  Max.Price  MPG.city  \\\n",
       "0   1        Acura  Integra    Small       12.9   15.9       18.8        25   \n",
       "1   2        Acura   Legend  Midsize       29.2   33.9       38.7        18   \n",
       "\n",
       "   MPG.highway             AirBags  ... Passengers Length  Wheelbase  Width  \\\n",
       "0           31                None  ...          5    177        102     68   \n",
       "1           25  Driver & Passenger  ...          5    195        115     71   \n",
       "\n",
       "   Turn.circle  Rear.seat.room Luggage.room  Weight   Origin           Make  \n",
       "0           37            26.5         11.0    2705  non-USA  Acura Integra  \n",
       "1           38            30.0         15.0    3560  non-USA   Acura Legend  \n",
       "\n",
       "[2 rows x 28 columns]"
      ]
     },
     "execution_count": 2,
     "metadata": {},
     "output_type": "execute_result"
    }
   ],
   "source": [
    "A.head(2)"
   ]
  },
  {
   "cell_type": "code",
   "execution_count": 3,
   "id": "787ab7ac",
   "metadata": {},
   "outputs": [],
   "source": [
    "from warnings import filterwarnings\n",
    "filterwarnings(\"ignore\")"
   ]
  },
  {
   "cell_type": "markdown",
   "id": "db968c46",
   "metadata": {},
   "source": [
    "# missing data treatment"
   ]
  },
  {
   "cell_type": "code",
   "execution_count": 4,
   "id": "6b51a785",
   "metadata": {},
   "outputs": [],
   "source": [
    "from PM12 import replacer\n",
    "\n",
    "replacer(A)"
   ]
  },
  {
   "cell_type": "code",
   "execution_count": 5,
   "id": "fd1311df",
   "metadata": {},
   "outputs": [
    {
     "data": {
      "text/plain": [
       "id                    0\n",
       "Manufacturer          0\n",
       "Model                 0\n",
       "Type                  0\n",
       "Min.Price             0\n",
       "Price                 0\n",
       "Max.Price             0\n",
       "MPG.city              0\n",
       "MPG.highway           0\n",
       "AirBags               0\n",
       "DriveTrain            0\n",
       "Cylinders             0\n",
       "EngineSize            0\n",
       "Horsepower            0\n",
       "RPM                   0\n",
       "Rev.per.mile          0\n",
       "Man.trans.avail       0\n",
       "Fuel.tank.capacity    0\n",
       "Passengers            0\n",
       "Length                0\n",
       "Wheelbase             0\n",
       "Width                 0\n",
       "Turn.circle           0\n",
       "Rear.seat.room        0\n",
       "Luggage.room          0\n",
       "Weight                0\n",
       "Origin                0\n",
       "Make                  0\n",
       "dtype: int64"
      ]
     },
     "execution_count": 5,
     "metadata": {},
     "output_type": "execute_result"
    }
   ],
   "source": [
    "A.isna().sum()"
   ]
  },
  {
   "cell_type": "markdown",
   "id": "53ff50a9",
   "metadata": {},
   "source": [
    "# outliers"
   ]
  },
  {
   "cell_type": "code",
   "execution_count": 6,
   "id": "e794c5b3",
   "metadata": {},
   "outputs": [],
   "source": [
    "from PM12 import outliers\n",
    "out = outliers(A)"
   ]
  },
  {
   "cell_type": "code",
   "execution_count": 7,
   "id": "d21f367c",
   "metadata": {},
   "outputs": [],
   "source": [
    "A = A.drop(index=out,axis=0)\n",
    "A.index = range(0,87)"
   ]
  },
  {
   "cell_type": "markdown",
   "id": "b582e14a",
   "metadata": {},
   "source": [
    "# x and y"
   ]
  },
  {
   "cell_type": "code",
   "execution_count": 8,
   "id": "aafa2b53",
   "metadata": {},
   "outputs": [],
   "source": [
    "Y = A[[\"Length\"]]\n",
    "X = A.drop(labels=[\"Length\",\"id\",\"Make\",\"Model\"],axis=1)\n",
    "from PM12 import catcon\n",
    "cat,con = catcon(X)\n",
    "X2 = pd.get_dummies(X[cat])\n",
    "from sklearn.preprocessing import StandardScaler\n",
    "ss = StandardScaler()\n",
    "X1 = pd.DataFrame(ss.fit_transform(X[con]),columns=con)\n",
    "Xnew = X1.join(X2)\n",
    "from sklearn.model_selection import train_test_split\n",
    "xtrain,xtest,ytrain,ytest=train_test_split(Xnew,Y,test_size=0.2,random_state=21)"
   ]
  },
  {
   "cell_type": "code",
   "execution_count": 9,
   "id": "179b4e86",
   "metadata": {},
   "outputs": [
    {
     "data": {
      "text/plain": [
       "['Manufacturer',\n",
       " 'Type',\n",
       " 'AirBags',\n",
       " 'DriveTrain',\n",
       " 'Cylinders',\n",
       " 'Man.trans.avail',\n",
       " 'Origin']"
      ]
     },
     "execution_count": 9,
     "metadata": {},
     "output_type": "execute_result"
    }
   ],
   "source": [
    "cat"
   ]
  },
  {
   "cell_type": "code",
   "execution_count": 10,
   "id": "47ff1a28",
   "metadata": {},
   "outputs": [
    {
     "data": {
      "text/plain": [
       "['Min.Price',\n",
       " 'Price',\n",
       " 'Max.Price',\n",
       " 'MPG.city',\n",
       " 'MPG.highway',\n",
       " 'EngineSize',\n",
       " 'Horsepower',\n",
       " 'RPM',\n",
       " 'Rev.per.mile',\n",
       " 'Fuel.tank.capacity',\n",
       " 'Passengers',\n",
       " 'Wheelbase',\n",
       " 'Width',\n",
       " 'Turn.circle',\n",
       " 'Rear.seat.room',\n",
       " 'Luggage.room',\n",
       " 'Weight']"
      ]
     },
     "execution_count": 10,
     "metadata": {},
     "output_type": "execute_result"
    }
   ],
   "source": [
    "con"
   ]
  },
  {
   "cell_type": "markdown",
   "id": "feaf9cb1",
   "metadata": {},
   "source": [
    "# model 1"
   ]
  },
  {
   "cell_type": "code",
   "execution_count": 11,
   "id": "4345273f",
   "metadata": {},
   "outputs": [
    {
     "data": {
      "text/html": [
       "<table class=\"simpletable\">\n",
       "<caption>OLS Regression Results</caption>\n",
       "<tr>\n",
       "  <th>Dep. Variable:</th>         <td>Length</td>      <th>  R-squared:         </th> <td>   0.983</td>\n",
       "</tr>\n",
       "<tr>\n",
       "  <th>Model:</th>                   <td>OLS</td>       <th>  Adj. R-squared:    </th> <td>   0.836</td>\n",
       "</tr>\n",
       "<tr>\n",
       "  <th>Method:</th>             <td>Least Squares</td>  <th>  F-statistic:       </th> <td>   6.676</td>\n",
       "</tr>\n",
       "<tr>\n",
       "  <th>Date:</th>             <td>Sun, 18 Dec 2022</td> <th>  Prob (F-statistic):</th>  <td>0.00660</td>\n",
       "</tr>\n",
       "<tr>\n",
       "  <th>Time:</th>                 <td>01:20:27</td>     <th>  Log-Likelihood:    </th> <td> -135.06</td>\n",
       "</tr>\n",
       "<tr>\n",
       "  <th>No. Observations:</th>      <td>    69</td>      <th>  AIC:               </th> <td>   394.1</td>\n",
       "</tr>\n",
       "<tr>\n",
       "  <th>Df Residuals:</th>          <td>     7</td>      <th>  BIC:               </th> <td>   532.6</td>\n",
       "</tr>\n",
       "<tr>\n",
       "  <th>Df Model:</th>              <td>    61</td>      <th>                     </th>     <td> </td>   \n",
       "</tr>\n",
       "<tr>\n",
       "  <th>Covariance Type:</th>      <td>nonrobust</td>    <th>                     </th>     <td> </td>   \n",
       "</tr>\n",
       "</table>\n",
       "<table class=\"simpletable\">\n",
       "<tr>\n",
       "               <td></td>                 <th>coef</th>     <th>std err</th>      <th>t</th>      <th>P>|t|</th>  <th>[0.025</th>    <th>0.975]</th>  \n",
       "</tr>\n",
       "<tr>\n",
       "  <th>const</th>                      <td>   60.4497</td> <td>    1.764</td> <td>   34.276</td> <td> 0.000</td> <td>   56.279</td> <td>   64.620</td>\n",
       "</tr>\n",
       "<tr>\n",
       "  <th>Min.Price</th>                  <td>  359.9182</td> <td>  337.348</td> <td>    1.067</td> <td> 0.321</td> <td> -437.782</td> <td> 1157.619</td>\n",
       "</tr>\n",
       "<tr>\n",
       "  <th>Price</th>                      <td> -722.6776</td> <td>  694.424</td> <td>   -1.041</td> <td> 0.333</td> <td>-2364.729</td> <td>  919.374</td>\n",
       "</tr>\n",
       "<tr>\n",
       "  <th>Max.Price</th>                  <td>  382.3814</td> <td>  375.234</td> <td>    1.019</td> <td> 0.342</td> <td> -504.906</td> <td> 1269.669</td>\n",
       "</tr>\n",
       "<tr>\n",
       "  <th>MPG.city</th>                   <td>   -5.6091</td> <td>    8.710</td> <td>   -0.644</td> <td> 0.540</td> <td>  -26.205</td> <td>   14.987</td>\n",
       "</tr>\n",
       "<tr>\n",
       "  <th>MPG.highway</th>                <td>    8.0652</td> <td>    6.788</td> <td>    1.188</td> <td> 0.274</td> <td>   -7.986</td> <td>   24.116</td>\n",
       "</tr>\n",
       "<tr>\n",
       "  <th>EngineSize</th>                 <td>  -10.6374</td> <td>    9.408</td> <td>   -1.131</td> <td> 0.295</td> <td>  -32.884</td> <td>   11.609</td>\n",
       "</tr>\n",
       "<tr>\n",
       "  <th>Horsepower</th>                 <td>    3.3360</td> <td>    7.244</td> <td>    0.461</td> <td> 0.659</td> <td>  -13.794</td> <td>   20.466</td>\n",
       "</tr>\n",
       "<tr>\n",
       "  <th>RPM</th>                        <td>   -5.9135</td> <td>    4.587</td> <td>   -1.289</td> <td> 0.238</td> <td>  -16.761</td> <td>    4.934</td>\n",
       "</tr>\n",
       "<tr>\n",
       "  <th>Rev.per.mile</th>               <td>   -0.5543</td> <td>    3.177</td> <td>   -0.174</td> <td> 0.866</td> <td>   -8.067</td> <td>    6.958</td>\n",
       "</tr>\n",
       "<tr>\n",
       "  <th>Fuel.tank.capacity</th>         <td>   -5.1014</td> <td>    4.966</td> <td>   -1.027</td> <td> 0.339</td> <td>  -16.845</td> <td>    6.642</td>\n",
       "</tr>\n",
       "<tr>\n",
       "  <th>Passengers</th>                 <td>   -1.1831</td> <td>    4.856</td> <td>   -0.244</td> <td> 0.815</td> <td>  -12.667</td> <td>   10.301</td>\n",
       "</tr>\n",
       "<tr>\n",
       "  <th>Wheelbase</th>                  <td>    3.1613</td> <td>    7.370</td> <td>    0.429</td> <td> 0.681</td> <td>  -14.265</td> <td>   20.588</td>\n",
       "</tr>\n",
       "<tr>\n",
       "  <th>Width</th>                      <td>   10.6645</td> <td>    6.050</td> <td>    1.763</td> <td> 0.121</td> <td>   -3.642</td> <td>   24.971</td>\n",
       "</tr>\n",
       "<tr>\n",
       "  <th>Turn.circle</th>                <td>    4.8504</td> <td>    5.310</td> <td>    0.913</td> <td> 0.391</td> <td>   -7.705</td> <td>   17.406</td>\n",
       "</tr>\n",
       "<tr>\n",
       "  <th>Rear.seat.room</th>             <td>    1.1521</td> <td>    3.204</td> <td>    0.360</td> <td> 0.730</td> <td>   -6.424</td> <td>    8.728</td>\n",
       "</tr>\n",
       "<tr>\n",
       "  <th>Luggage.room</th>               <td>    0.5790</td> <td>    2.638</td> <td>    0.220</td> <td> 0.833</td> <td>   -5.659</td> <td>    6.817</td>\n",
       "</tr>\n",
       "<tr>\n",
       "  <th>Weight</th>                     <td>    4.5068</td> <td>   11.236</td> <td>    0.401</td> <td> 0.700</td> <td>  -22.063</td> <td>   31.076</td>\n",
       "</tr>\n",
       "<tr>\n",
       "  <th>Manufacturer_Acura</th>         <td>    3.8330</td> <td>    9.475</td> <td>    0.405</td> <td> 0.698</td> <td>  -18.571</td> <td>   26.237</td>\n",
       "</tr>\n",
       "<tr>\n",
       "  <th>Manufacturer_Audi</th>          <td>    2.8034</td> <td>    9.400</td> <td>    0.298</td> <td> 0.774</td> <td>  -19.424</td> <td>   25.031</td>\n",
       "</tr>\n",
       "<tr>\n",
       "  <th>Manufacturer_BMW</th>           <td>    9.1845</td> <td>   19.003</td> <td>    0.483</td> <td> 0.644</td> <td>  -35.750</td> <td>   54.119</td>\n",
       "</tr>\n",
       "<tr>\n",
       "  <th>Manufacturer_Buick</th>         <td>    1.4964</td> <td>    6.416</td> <td>    0.233</td> <td> 0.822</td> <td>  -13.676</td> <td>   16.669</td>\n",
       "</tr>\n",
       "<tr>\n",
       "  <th>Manufacturer_Cadillac</th>      <td>   -1.6176</td> <td>   19.497</td> <td>   -0.083</td> <td> 0.936</td> <td>  -47.721</td> <td>   44.486</td>\n",
       "</tr>\n",
       "<tr>\n",
       "  <th>Manufacturer_Chevrolet</th>     <td>   -1.6564</td> <td>    5.300</td> <td>   -0.313</td> <td> 0.764</td> <td>  -14.189</td> <td>   10.876</td>\n",
       "</tr>\n",
       "<tr>\n",
       "  <th>Manufacturer_Chrylser</th>      <td>   13.4652</td> <td>   11.018</td> <td>    1.222</td> <td> 0.261</td> <td>  -12.589</td> <td>   39.519</td>\n",
       "</tr>\n",
       "<tr>\n",
       "  <th>Manufacturer_Chrysler</th>      <td>    5.9942</td> <td>   13.426</td> <td>    0.446</td> <td> 0.669</td> <td>  -25.754</td> <td>   37.743</td>\n",
       "</tr>\n",
       "<tr>\n",
       "  <th>Manufacturer_Dodge</th>         <td>    9.8480</td> <td>    7.867</td> <td>    1.252</td> <td> 0.251</td> <td>   -8.755</td> <td>   28.451</td>\n",
       "</tr>\n",
       "<tr>\n",
       "  <th>Manufacturer_Eagle</th>         <td>   15.3617</td> <td>    7.462</td> <td>    2.059</td> <td> 0.079</td> <td>   -2.284</td> <td>   33.007</td>\n",
       "</tr>\n",
       "<tr>\n",
       "  <th>Manufacturer_Ford</th>          <td>    3.1013</td> <td>    6.960</td> <td>    0.446</td> <td> 0.669</td> <td>  -13.357</td> <td>   19.560</td>\n",
       "</tr>\n",
       "<tr>\n",
       "  <th>Manufacturer_Geo</th>           <td>   -5.8669</td> <td>   11.042</td> <td>   -0.531</td> <td> 0.612</td> <td>  -31.978</td> <td>   20.244</td>\n",
       "</tr>\n",
       "<tr>\n",
       "  <th>Manufacturer_Honda</th>         <td>    4.8165</td> <td>    9.621</td> <td>    0.501</td> <td> 0.632</td> <td>  -17.933</td> <td>   27.566</td>\n",
       "</tr>\n",
       "<tr>\n",
       "  <th>Manufacturer_Hyundai</th>       <td>   -0.2517</td> <td>    6.064</td> <td>   -0.042</td> <td> 0.968</td> <td>  -14.590</td> <td>   14.087</td>\n",
       "</tr>\n",
       "<tr>\n",
       "  <th>Manufacturer_Lexus</th>         <td>   -0.0660</td> <td>    9.791</td> <td>   -0.007</td> <td> 0.995</td> <td>  -23.217</td> <td>   23.085</td>\n",
       "</tr>\n",
       "<tr>\n",
       "  <th>Manufacturer_Lincoln</th>       <td>   -0.5715</td> <td>   11.465</td> <td>   -0.050</td> <td> 0.962</td> <td>  -27.682</td> <td>   26.539</td>\n",
       "</tr>\n",
       "<tr>\n",
       "  <th>Manufacturer_Mazda</th>         <td>   -9.0623</td> <td>    7.921</td> <td>   -1.144</td> <td> 0.290</td> <td>  -27.792</td> <td>    9.667</td>\n",
       "</tr>\n",
       "<tr>\n",
       "  <th>Manufacturer_Mercedes-Benz</th> <td>  -26.9463</td> <td>   19.200</td> <td>   -1.403</td> <td> 0.203</td> <td>  -72.347</td> <td>   18.454</td>\n",
       "</tr>\n",
       "<tr>\n",
       "  <th>Manufacturer_Mercury</th>       <td>-9.395e-12</td> <td> 9.06e-12</td> <td>   -1.037</td> <td> 0.334</td> <td>-3.08e-11</td> <td>  1.2e-11</td>\n",
       "</tr>\n",
       "<tr>\n",
       "  <th>Manufacturer_Mitsubishi</th>    <td>    6.0624</td> <td>    7.478</td> <td>    0.811</td> <td> 0.444</td> <td>  -11.621</td> <td>   23.746</td>\n",
       "</tr>\n",
       "<tr>\n",
       "  <th>Manufacturer_Nissan</th>        <td>    6.9248</td> <td>    5.892</td> <td>    1.175</td> <td> 0.278</td> <td>   -7.007</td> <td>   20.856</td>\n",
       "</tr>\n",
       "<tr>\n",
       "  <th>Manufacturer_Oldsmobile</th>    <td>    5.7913</td> <td>    5.268</td> <td>    1.099</td> <td> 0.308</td> <td>   -6.666</td> <td>   18.248</td>\n",
       "</tr>\n",
       "<tr>\n",
       "  <th>Manufacturer_Plymouth</th>      <td>   -6.6080</td> <td>   15.819</td> <td>   -0.418</td> <td> 0.689</td> <td>  -44.013</td> <td>   30.797</td>\n",
       "</tr>\n",
       "<tr>\n",
       "  <th>Manufacturer_Pontiac</th>       <td>   -9.0002</td> <td>    5.411</td> <td>   -1.663</td> <td> 0.140</td> <td>  -21.795</td> <td>    3.795</td>\n",
       "</tr>\n",
       "<tr>\n",
       "  <th>Manufacturer_Saab</th>          <td>   30.8951</td> <td>   14.749</td> <td>    2.095</td> <td> 0.074</td> <td>   -3.981</td> <td>   65.771</td>\n",
       "</tr>\n",
       "<tr>\n",
       "  <th>Manufacturer_Saturn</th>        <td>   -6.2459</td> <td>   13.999</td> <td>   -0.446</td> <td> 0.669</td> <td>  -39.349</td> <td>   26.857</td>\n",
       "</tr>\n",
       "<tr>\n",
       "  <th>Manufacturer_Subaru</th>        <td>   -0.6593</td> <td>   11.336</td> <td>   -0.058</td> <td> 0.955</td> <td>  -27.464</td> <td>   26.146</td>\n",
       "</tr>\n",
       "<tr>\n",
       "  <th>Manufacturer_Suzuki</th>        <td>    7.5347</td> <td>   12.440</td> <td>    0.606</td> <td> 0.564</td> <td>  -21.881</td> <td>   36.950</td>\n",
       "</tr>\n",
       "<tr>\n",
       "  <th>Manufacturer_Toyota</th>        <td>    5.6449</td> <td>    4.984</td> <td>    1.133</td> <td> 0.295</td> <td>   -6.141</td> <td>   17.431</td>\n",
       "</tr>\n",
       "<tr>\n",
       "  <th>Manufacturer_Volkswagen</th>    <td>   -2.6871</td> <td>    6.775</td> <td>   -0.397</td> <td> 0.703</td> <td>  -18.707</td> <td>   13.333</td>\n",
       "</tr>\n",
       "<tr>\n",
       "  <th>Manufacturer_Volvo</th>         <td>   -1.0685</td> <td>    9.459</td> <td>   -0.113</td> <td> 0.913</td> <td>  -23.435</td> <td>   21.298</td>\n",
       "</tr>\n",
       "<tr>\n",
       "  <th>Type_Compact</th>               <td>   19.6182</td> <td>    6.324</td> <td>    3.102</td> <td> 0.017</td> <td>    4.665</td> <td>   34.571</td>\n",
       "</tr>\n",
       "<tr>\n",
       "  <th>Type_Large</th>                 <td>   10.7274</td> <td>   11.491</td> <td>    0.934</td> <td> 0.382</td> <td>  -16.444</td> <td>   37.899</td>\n",
       "</tr>\n",
       "<tr>\n",
       "  <th>Type_Midsize</th>               <td>   15.9970</td> <td>    4.386</td> <td>    3.647</td> <td> 0.008</td> <td>    5.625</td> <td>   26.369</td>\n",
       "</tr>\n",
       "<tr>\n",
       "  <th>Type_Small</th>                 <td>   11.8594</td> <td>    9.860</td> <td>    1.203</td> <td> 0.268</td> <td>  -11.456</td> <td>   35.175</td>\n",
       "</tr>\n",
       "<tr>\n",
       "  <th>Type_Sporty</th>                <td>    7.2198</td> <td>    9.976</td> <td>    0.724</td> <td> 0.493</td> <td>  -16.371</td> <td>   30.810</td>\n",
       "</tr>\n",
       "<tr>\n",
       "  <th>Type_Van</th>                   <td>   -4.9721</td> <td>   10.707</td> <td>   -0.464</td> <td> 0.656</td> <td>  -30.291</td> <td>   20.346</td>\n",
       "</tr>\n",
       "<tr>\n",
       "  <th>AirBags_Driver & Passenger</th> <td>   14.5504</td> <td>    4.982</td> <td>    2.921</td> <td> 0.022</td> <td>    2.770</td> <td>   26.331</td>\n",
       "</tr>\n",
       "<tr>\n",
       "  <th>AirBags_Driver only</th>        <td>   17.6812</td> <td>    3.414</td> <td>    5.179</td> <td> 0.001</td> <td>    9.608</td> <td>   25.754</td>\n",
       "</tr>\n",
       "<tr>\n",
       "  <th>AirBags_None</th>               <td>   28.2182</td> <td>    4.783</td> <td>    5.900</td> <td> 0.001</td> <td>   16.909</td> <td>   39.528</td>\n",
       "</tr>\n",
       "<tr>\n",
       "  <th>DriveTrain_4WD</th>             <td>   20.8161</td> <td>    6.701</td> <td>    3.107</td> <td> 0.017</td> <td>    4.971</td> <td>   36.661</td>\n",
       "</tr>\n",
       "<tr>\n",
       "  <th>DriveTrain_Front</th>           <td>   14.2238</td> <td>    3.813</td> <td>    3.730</td> <td> 0.007</td> <td>    5.207</td> <td>   23.241</td>\n",
       "</tr>\n",
       "<tr>\n",
       "  <th>DriveTrain_Rear</th>            <td>   25.4098</td> <td>    5.362</td> <td>    4.739</td> <td> 0.002</td> <td>   12.732</td> <td>   38.088</td>\n",
       "</tr>\n",
       "<tr>\n",
       "  <th>Cylinders_3</th>                <td>   -1.6057</td> <td>   14.311</td> <td>   -0.112</td> <td> 0.914</td> <td>  -35.447</td> <td>   32.235</td>\n",
       "</tr>\n",
       "<tr>\n",
       "  <th>Cylinders_4</th>                <td>   10.5549</td> <td>    5.145</td> <td>    2.051</td> <td> 0.079</td> <td>   -1.612</td> <td>   22.721</td>\n",
       "</tr>\n",
       "<tr>\n",
       "  <th>Cylinders_5</th>                <td>   24.4663</td> <td>   14.486</td> <td>    1.689</td> <td> 0.135</td> <td>   -9.787</td> <td>   58.720</td>\n",
       "</tr>\n",
       "<tr>\n",
       "  <th>Cylinders_6</th>                <td>   11.6991</td> <td>    5.197</td> <td>    2.251</td> <td> 0.059</td> <td>   -0.589</td> <td>   23.988</td>\n",
       "</tr>\n",
       "<tr>\n",
       "  <th>Cylinders_8</th>                <td>   22.2000</td> <td>   11.983</td> <td>    1.853</td> <td> 0.106</td> <td>   -6.136</td> <td>   50.536</td>\n",
       "</tr>\n",
       "<tr>\n",
       "  <th>Cylinders_rotary</th>           <td>   -6.8649</td> <td>   25.039</td> <td>   -0.274</td> <td> 0.792</td> <td>  -66.072</td> <td>   52.342</td>\n",
       "</tr>\n",
       "<tr>\n",
       "  <th>Man.trans.avail_No</th>         <td>   27.8154</td> <td>    3.645</td> <td>    7.630</td> <td> 0.000</td> <td>   19.195</td> <td>   36.436</td>\n",
       "</tr>\n",
       "<tr>\n",
       "  <th>Man.trans.avail_Yes</th>        <td>   32.6343</td> <td>    3.419</td> <td>    9.546</td> <td> 0.000</td> <td>   24.550</td> <td>   40.718</td>\n",
       "</tr>\n",
       "<tr>\n",
       "  <th>Origin_USA</th>                 <td>   29.3586</td> <td>    2.847</td> <td>   10.311</td> <td> 0.000</td> <td>   22.625</td> <td>   36.092</td>\n",
       "</tr>\n",
       "<tr>\n",
       "  <th>Origin_non-USA</th>             <td>   31.0912</td> <td>    2.998</td> <td>   10.371</td> <td> 0.000</td> <td>   24.002</td> <td>   38.180</td>\n",
       "</tr>\n",
       "</table>\n",
       "<table class=\"simpletable\">\n",
       "<tr>\n",
       "  <th>Omnibus:</th>       <td> 0.343</td> <th>  Durbin-Watson:     </th> <td>   2.220</td>\n",
       "</tr>\n",
       "<tr>\n",
       "  <th>Prob(Omnibus):</th> <td> 0.842</td> <th>  Jarque-Bera (JB):  </th> <td>   0.047</td>\n",
       "</tr>\n",
       "<tr>\n",
       "  <th>Skew:</th>          <td>-0.031</td> <th>  Prob(JB):          </th> <td>   0.977</td>\n",
       "</tr>\n",
       "<tr>\n",
       "  <th>Kurtosis:</th>      <td> 3.112</td> <th>  Cond. No.          </th> <td>1.46e+16</td>\n",
       "</tr>\n",
       "</table><br/><br/>Notes:<br/>[1] Standard Errors assume that the covariance matrix of the errors is correctly specified.<br/>[2] The input rank is higher than the number of observations.<br/>[3] The smallest eigenvalue is 3.25e-30. This might indicate that there are<br/>strong multicollinearity problems or that the design matrix is singular."
      ],
      "text/plain": [
       "<class 'statsmodels.iolib.summary.Summary'>\n",
       "\"\"\"\n",
       "                            OLS Regression Results                            \n",
       "==============================================================================\n",
       "Dep. Variable:                 Length   R-squared:                       0.983\n",
       "Model:                            OLS   Adj. R-squared:                  0.836\n",
       "Method:                 Least Squares   F-statistic:                     6.676\n",
       "Date:                Sun, 18 Dec 2022   Prob (F-statistic):            0.00660\n",
       "Time:                        01:20:27   Log-Likelihood:                -135.06\n",
       "No. Observations:                  69   AIC:                             394.1\n",
       "Df Residuals:                       7   BIC:                             532.6\n",
       "Df Model:                          61                                         \n",
       "Covariance Type:            nonrobust                                         \n",
       "==============================================================================================\n",
       "                                 coef    std err          t      P>|t|      [0.025      0.975]\n",
       "----------------------------------------------------------------------------------------------\n",
       "const                         60.4497      1.764     34.276      0.000      56.279      64.620\n",
       "Min.Price                    359.9182    337.348      1.067      0.321    -437.782    1157.619\n",
       "Price                       -722.6776    694.424     -1.041      0.333   -2364.729     919.374\n",
       "Max.Price                    382.3814    375.234      1.019      0.342    -504.906    1269.669\n",
       "MPG.city                      -5.6091      8.710     -0.644      0.540     -26.205      14.987\n",
       "MPG.highway                    8.0652      6.788      1.188      0.274      -7.986      24.116\n",
       "EngineSize                   -10.6374      9.408     -1.131      0.295     -32.884      11.609\n",
       "Horsepower                     3.3360      7.244      0.461      0.659     -13.794      20.466\n",
       "RPM                           -5.9135      4.587     -1.289      0.238     -16.761       4.934\n",
       "Rev.per.mile                  -0.5543      3.177     -0.174      0.866      -8.067       6.958\n",
       "Fuel.tank.capacity            -5.1014      4.966     -1.027      0.339     -16.845       6.642\n",
       "Passengers                    -1.1831      4.856     -0.244      0.815     -12.667      10.301\n",
       "Wheelbase                      3.1613      7.370      0.429      0.681     -14.265      20.588\n",
       "Width                         10.6645      6.050      1.763      0.121      -3.642      24.971\n",
       "Turn.circle                    4.8504      5.310      0.913      0.391      -7.705      17.406\n",
       "Rear.seat.room                 1.1521      3.204      0.360      0.730      -6.424       8.728\n",
       "Luggage.room                   0.5790      2.638      0.220      0.833      -5.659       6.817\n",
       "Weight                         4.5068     11.236      0.401      0.700     -22.063      31.076\n",
       "Manufacturer_Acura             3.8330      9.475      0.405      0.698     -18.571      26.237\n",
       "Manufacturer_Audi              2.8034      9.400      0.298      0.774     -19.424      25.031\n",
       "Manufacturer_BMW               9.1845     19.003      0.483      0.644     -35.750      54.119\n",
       "Manufacturer_Buick             1.4964      6.416      0.233      0.822     -13.676      16.669\n",
       "Manufacturer_Cadillac         -1.6176     19.497     -0.083      0.936     -47.721      44.486\n",
       "Manufacturer_Chevrolet        -1.6564      5.300     -0.313      0.764     -14.189      10.876\n",
       "Manufacturer_Chrylser         13.4652     11.018      1.222      0.261     -12.589      39.519\n",
       "Manufacturer_Chrysler          5.9942     13.426      0.446      0.669     -25.754      37.743\n",
       "Manufacturer_Dodge             9.8480      7.867      1.252      0.251      -8.755      28.451\n",
       "Manufacturer_Eagle            15.3617      7.462      2.059      0.079      -2.284      33.007\n",
       "Manufacturer_Ford              3.1013      6.960      0.446      0.669     -13.357      19.560\n",
       "Manufacturer_Geo              -5.8669     11.042     -0.531      0.612     -31.978      20.244\n",
       "Manufacturer_Honda             4.8165      9.621      0.501      0.632     -17.933      27.566\n",
       "Manufacturer_Hyundai          -0.2517      6.064     -0.042      0.968     -14.590      14.087\n",
       "Manufacturer_Lexus            -0.0660      9.791     -0.007      0.995     -23.217      23.085\n",
       "Manufacturer_Lincoln          -0.5715     11.465     -0.050      0.962     -27.682      26.539\n",
       "Manufacturer_Mazda            -9.0623      7.921     -1.144      0.290     -27.792       9.667\n",
       "Manufacturer_Mercedes-Benz   -26.9463     19.200     -1.403      0.203     -72.347      18.454\n",
       "Manufacturer_Mercury       -9.395e-12   9.06e-12     -1.037      0.334   -3.08e-11     1.2e-11\n",
       "Manufacturer_Mitsubishi        6.0624      7.478      0.811      0.444     -11.621      23.746\n",
       "Manufacturer_Nissan            6.9248      5.892      1.175      0.278      -7.007      20.856\n",
       "Manufacturer_Oldsmobile        5.7913      5.268      1.099      0.308      -6.666      18.248\n",
       "Manufacturer_Plymouth         -6.6080     15.819     -0.418      0.689     -44.013      30.797\n",
       "Manufacturer_Pontiac          -9.0002      5.411     -1.663      0.140     -21.795       3.795\n",
       "Manufacturer_Saab             30.8951     14.749      2.095      0.074      -3.981      65.771\n",
       "Manufacturer_Saturn           -6.2459     13.999     -0.446      0.669     -39.349      26.857\n",
       "Manufacturer_Subaru           -0.6593     11.336     -0.058      0.955     -27.464      26.146\n",
       "Manufacturer_Suzuki            7.5347     12.440      0.606      0.564     -21.881      36.950\n",
       "Manufacturer_Toyota            5.6449      4.984      1.133      0.295      -6.141      17.431\n",
       "Manufacturer_Volkswagen       -2.6871      6.775     -0.397      0.703     -18.707      13.333\n",
       "Manufacturer_Volvo            -1.0685      9.459     -0.113      0.913     -23.435      21.298\n",
       "Type_Compact                  19.6182      6.324      3.102      0.017       4.665      34.571\n",
       "Type_Large                    10.7274     11.491      0.934      0.382     -16.444      37.899\n",
       "Type_Midsize                  15.9970      4.386      3.647      0.008       5.625      26.369\n",
       "Type_Small                    11.8594      9.860      1.203      0.268     -11.456      35.175\n",
       "Type_Sporty                    7.2198      9.976      0.724      0.493     -16.371      30.810\n",
       "Type_Van                      -4.9721     10.707     -0.464      0.656     -30.291      20.346\n",
       "AirBags_Driver & Passenger    14.5504      4.982      2.921      0.022       2.770      26.331\n",
       "AirBags_Driver only           17.6812      3.414      5.179      0.001       9.608      25.754\n",
       "AirBags_None                  28.2182      4.783      5.900      0.001      16.909      39.528\n",
       "DriveTrain_4WD                20.8161      6.701      3.107      0.017       4.971      36.661\n",
       "DriveTrain_Front              14.2238      3.813      3.730      0.007       5.207      23.241\n",
       "DriveTrain_Rear               25.4098      5.362      4.739      0.002      12.732      38.088\n",
       "Cylinders_3                   -1.6057     14.311     -0.112      0.914     -35.447      32.235\n",
       "Cylinders_4                   10.5549      5.145      2.051      0.079      -1.612      22.721\n",
       "Cylinders_5                   24.4663     14.486      1.689      0.135      -9.787      58.720\n",
       "Cylinders_6                   11.6991      5.197      2.251      0.059      -0.589      23.988\n",
       "Cylinders_8                   22.2000     11.983      1.853      0.106      -6.136      50.536\n",
       "Cylinders_rotary              -6.8649     25.039     -0.274      0.792     -66.072      52.342\n",
       "Man.trans.avail_No            27.8154      3.645      7.630      0.000      19.195      36.436\n",
       "Man.trans.avail_Yes           32.6343      3.419      9.546      0.000      24.550      40.718\n",
       "Origin_USA                    29.3586      2.847     10.311      0.000      22.625      36.092\n",
       "Origin_non-USA                31.0912      2.998     10.371      0.000      24.002      38.180\n",
       "==============================================================================\n",
       "Omnibus:                        0.343   Durbin-Watson:                   2.220\n",
       "Prob(Omnibus):                  0.842   Jarque-Bera (JB):                0.047\n",
       "Skew:                          -0.031   Prob(JB):                        0.977\n",
       "Kurtosis:                       3.112   Cond. No.                     1.46e+16\n",
       "==============================================================================\n",
       "\n",
       "Notes:\n",
       "[1] Standard Errors assume that the covariance matrix of the errors is correctly specified.\n",
       "[2] The input rank is higher than the number of observations.\n",
       "[3] The smallest eigenvalue is 3.25e-30. This might indicate that there are\n",
       "strong multicollinearity problems or that the design matrix is singular.\n",
       "\"\"\""
      ]
     },
     "execution_count": 11,
     "metadata": {},
     "output_type": "execute_result"
    }
   ],
   "source": [
    "from statsmodels.api import add_constant,OLS\n",
    "xconst = add_constant(xtrain,has_constant='add')\n",
    "ols = OLS(ytrain,xconst).fit()\n",
    "ols.summary()"
   ]
  },
  {
   "cell_type": "code",
   "execution_count": 12,
   "id": "939a2f6b",
   "metadata": {},
   "outputs": [
    {
     "data": {
      "text/plain": [
       "const                    4.665088e-09\n",
       "Origin_non-USA           1.681707e-05\n",
       "Origin_USA               1.748148e-05\n",
       "Man.trans.avail_Yes      2.904067e-05\n",
       "Man.trans.avail_No       1.231592e-04\n",
       "                             ...     \n",
       "Manufacturer_Cadillac    9.362021e-01\n",
       "Manufacturer_Subaru      9.552482e-01\n",
       "Manufacturer_Lincoln     9.616383e-01\n",
       "Manufacturer_Hyundai     9.680543e-01\n",
       "Manufacturer_Lexus       9.948070e-01\n",
       "Length: 71, dtype: float64"
      ]
     },
     "execution_count": 12,
     "metadata": {},
     "output_type": "execute_result"
    }
   ],
   "source": [
    "ols.pvalues.sort_values()"
   ]
  },
  {
   "cell_type": "code",
   "execution_count": 13,
   "id": "93de1a93",
   "metadata": {},
   "outputs": [
    {
     "data": {
      "text/plain": [
       "0.8358485126743758"
      ]
     },
     "execution_count": 13,
     "metadata": {},
     "output_type": "execute_result"
    }
   ],
   "source": [
    "ols.rsquared_adj"
   ]
  },
  {
   "cell_type": "code",
   "execution_count": 14,
   "id": "53311e8a",
   "metadata": {},
   "outputs": [
    {
     "data": {
      "text/plain": [
       "'Manufacturer_Lexus'"
      ]
     },
     "execution_count": 14,
     "metadata": {},
     "output_type": "execute_result"
    }
   ],
   "source": [
    "Q = ols.pvalues.sort_values()\n",
    "col_to_drop = Q.index[-1]\n",
    "col_to_drop"
   ]
  },
  {
   "cell_type": "markdown",
   "id": "c8085460",
   "metadata": {},
   "source": [
    "# model 2"
   ]
  },
  {
   "cell_type": "code",
   "execution_count": 16,
   "id": "8ac84945",
   "metadata": {},
   "outputs": [
    {
     "name": "stdout",
     "output_type": "stream",
     "text": [
      "Manufacturer_Hyundai 0.8358485126743735\n"
     ]
    }
   ],
   "source": [
    "from sklearn.model_selection import train_test_split\n",
    "Xnew = Xnew.drop(labels=col_to_drop,axis=1)\n",
    "\n",
    "xtrain,xtest,ytrain,ytest=train_test_split(Xnew,Y,test_size=0.2,random_state=21)\n",
    "from statsmodels.api import add_constant,OLS\n",
    "xconst = add_constant(xtrain,has_constant='add')\n",
    "ols = OLS(ytrain,xconst).fit()\n",
    "Q = ols.pvalues.sort_values()\n",
    "col_to_drop = Q.index[-1]\n",
    "\n",
    "print(col_to_drop,ols.rsquared_adj)"
   ]
  },
  {
   "cell_type": "code",
   "execution_count": 17,
   "id": "8de80304",
   "metadata": {},
   "outputs": [
    {
     "name": "stdout",
     "output_type": "stream",
     "text": [
      "Manufacturer_Subaru 0.8563626725986613\n"
     ]
    }
   ],
   "source": [
    "from sklearn.model_selection import train_test_split\n",
    "Xnew = Xnew.drop(labels=col_to_drop,axis=1)\n",
    "\n",
    "xtrain,xtest,ytrain,ytest=train_test_split(Xnew,Y,test_size=0.2,random_state=21)\n",
    "from statsmodels.api import add_constant,OLS\n",
    "xconst = add_constant(xtrain,has_constant='add')\n",
    "ols = OLS(ytrain,xconst).fit()\n",
    "Q = ols.pvalues.sort_values()\n",
    "col_to_drop = Q.index[-1]\n",
    "\n",
    "print(col_to_drop,ols.rsquared_adj)"
   ]
  },
  {
   "cell_type": "code",
   "execution_count": 18,
   "id": "1cd1ffa3",
   "metadata": {},
   "outputs": [
    {
     "name": "stdout",
     "output_type": "stream",
     "text": [
      "Manufacturer_Lincoln 0.8722973576432904\n"
     ]
    }
   ],
   "source": [
    "from sklearn.model_selection import train_test_split\n",
    "Xnew = Xnew.drop(labels=col_to_drop,axis=1)\n",
    "\n",
    "xtrain,xtest,ytrain,ytest=train_test_split(Xnew,Y,test_size=0.2,random_state=21)\n",
    "from statsmodels.api import add_constant,OLS\n",
    "xconst = add_constant(xtrain,has_constant='add')\n",
    "ols = OLS(ytrain,xconst).fit()\n",
    "Q = ols.pvalues.sort_values()\n",
    "col_to_drop = Q.index[-1]\n",
    "\n",
    "print(col_to_drop,ols.rsquared_adj)"
   ]
  },
  {
   "cell_type": "code",
   "execution_count": 19,
   "id": "75698e0a",
   "metadata": {},
   "outputs": [
    {
     "name": "stdout",
     "output_type": "stream",
     "text": [
      "Manufacturer_Cadillac 0.8722973576432895\n"
     ]
    }
   ],
   "source": [
    "from sklearn.model_selection import train_test_split\n",
    "Xnew = Xnew.drop(labels=col_to_drop,axis=1)\n",
    "\n",
    "xtrain,xtest,ytrain,ytest=train_test_split(Xnew,Y,test_size=0.2,random_state=21)\n",
    "from statsmodels.api import add_constant,OLS\n",
    "xconst = add_constant(xtrain,has_constant='add')\n",
    "ols = OLS(ytrain,xconst).fit()\n",
    "Q = ols.pvalues.sort_values()\n",
    "col_to_drop = Q.index[-1]\n",
    "\n",
    "print(col_to_drop,ols.rsquared_adj)"
   ]
  },
  {
   "cell_type": "code",
   "execution_count": 20,
   "id": "1f5db50d",
   "metadata": {},
   "outputs": [
    {
     "name": "stdout",
     "output_type": "stream",
     "text": [
      "Manufacturer_Chevrolet 0.8850014524125132\n"
     ]
    }
   ],
   "source": [
    "from sklearn.model_selection import train_test_split\n",
    "Xnew = Xnew.drop(labels=col_to_drop,axis=1)\n",
    "\n",
    "xtrain,xtest,ytrain,ytest=train_test_split(Xnew,Y,test_size=0.2,random_state=21)\n",
    "from statsmodels.api import add_constant,OLS\n",
    "xconst = add_constant(xtrain,has_constant='add')\n",
    "ols = OLS(ytrain,xconst).fit()\n",
    "Q = ols.pvalues.sort_values()\n",
    "col_to_drop = Q.index[-1]\n",
    "\n",
    "print(col_to_drop,ols.rsquared_adj)"
   ]
  },
  {
   "cell_type": "code",
   "execution_count": 21,
   "id": "a7427c10",
   "metadata": {},
   "outputs": [
    {
     "name": "stdout",
     "output_type": "stream",
     "text": [
      "Manufacturer_Volvo 0.8953968075435963\n"
     ]
    }
   ],
   "source": [
    "from sklearn.model_selection import train_test_split\n",
    "Xnew = Xnew.drop(labels=col_to_drop,axis=1)\n",
    "\n",
    "xtrain,xtest,ytrain,ytest=train_test_split(Xnew,Y,test_size=0.2,random_state=21)\n",
    "from statsmodels.api import add_constant,OLS\n",
    "xconst = add_constant(xtrain,has_constant='add')\n",
    "ols = OLS(ytrain,xconst).fit()\n",
    "Q = ols.pvalues.sort_values()\n",
    "col_to_drop = Q.index[-1]\n",
    "\n",
    "print(col_to_drop,ols.rsquared_adj)"
   ]
  },
  {
   "cell_type": "code",
   "execution_count": 22,
   "id": "1982ffd5",
   "metadata": {},
   "outputs": [
    {
     "name": "stdout",
     "output_type": "stream",
     "text": [
      "Cylinders_3 0.9039883003873606\n"
     ]
    }
   ],
   "source": [
    "from sklearn.model_selection import train_test_split\n",
    "Xnew = Xnew.drop(labels=col_to_drop,axis=1)\n",
    "\n",
    "xtrain,xtest,ytrain,ytest=train_test_split(Xnew,Y,test_size=0.2,random_state=21)\n",
    "from statsmodels.api import add_constant,OLS\n",
    "xconst = add_constant(xtrain,has_constant='add')\n",
    "ols = OLS(ytrain,xconst).fit()\n",
    "Q = ols.pvalues.sort_values()\n",
    "col_to_drop = Q.index[-1]\n",
    "\n",
    "print(col_to_drop,ols.rsquared_adj)"
   ]
  },
  {
   "cell_type": "code",
   "execution_count": 23,
   "id": "994c9324",
   "metadata": {},
   "outputs": [
    {
     "name": "stdout",
     "output_type": "stream",
     "text": [
      "Cylinders_rotary 0.9039883003873599\n"
     ]
    }
   ],
   "source": [
    "from sklearn.model_selection import train_test_split\n",
    "Xnew = Xnew.drop(labels=col_to_drop,axis=1)\n",
    "\n",
    "xtrain,xtest,ytrain,ytest=train_test_split(Xnew,Y,test_size=0.2,random_state=21)\n",
    "from statsmodels.api import add_constant,OLS\n",
    "xconst = add_constant(xtrain,has_constant='add')\n",
    "ols = OLS(ytrain,xconst).fit()\n",
    "Q = ols.pvalues.sort_values()\n",
    "col_to_drop = Q.index[-1]\n",
    "\n",
    "print(col_to_drop,ols.rsquared_adj)"
   ]
  },
  {
   "cell_type": "code",
   "execution_count": 24,
   "id": "4f58bf90",
   "metadata": {},
   "outputs": [
    {
     "name": "stdout",
     "output_type": "stream",
     "text": [
      "Rev.per.mile 0.911095640231347\n"
     ]
    }
   ],
   "source": [
    "from sklearn.model_selection import train_test_split\n",
    "Xnew = Xnew.drop(labels=col_to_drop,axis=1)\n",
    "\n",
    "xtrain,xtest,ytrain,ytest=train_test_split(Xnew,Y,test_size=0.2,random_state=21)\n",
    "from statsmodels.api import add_constant,OLS\n",
    "xconst = add_constant(xtrain,has_constant='add')\n",
    "ols = OLS(ytrain,xconst).fit()\n",
    "Q = ols.pvalues.sort_values()\n",
    "col_to_drop = Q.index[-1]\n",
    "\n",
    "print(col_to_drop,ols.rsquared_adj)"
   ]
  },
  {
   "cell_type": "code",
   "execution_count": 25,
   "id": "96f6fb54",
   "metadata": {},
   "outputs": [
    {
     "name": "stdout",
     "output_type": "stream",
     "text": [
      "Luggage.room 0.9171782359441292\n"
     ]
    }
   ],
   "source": [
    "from sklearn.model_selection import train_test_split\n",
    "Xnew = Xnew.drop(labels=col_to_drop,axis=1)\n",
    "\n",
    "xtrain,xtest,ytrain,ytest=train_test_split(Xnew,Y,test_size=0.2,random_state=21)\n",
    "from statsmodels.api import add_constant,OLS\n",
    "xconst = add_constant(xtrain,has_constant='add')\n",
    "ols = OLS(ytrain,xconst).fit()\n",
    "Q = ols.pvalues.sort_values()\n",
    "col_to_drop = Q.index[-1]\n",
    "\n",
    "print(col_to_drop,ols.rsquared_adj)"
   ]
  },
  {
   "cell_type": "code",
   "execution_count": 26,
   "id": "b6d29154",
   "metadata": {},
   "outputs": [
    {
     "name": "stdout",
     "output_type": "stream",
     "text": [
      "Passengers 0.9221300934402468\n"
     ]
    }
   ],
   "source": [
    "from sklearn.model_selection import train_test_split\n",
    "Xnew = Xnew.drop(labels=col_to_drop,axis=1)\n",
    "\n",
    "xtrain,xtest,ytrain,ytest=train_test_split(Xnew,Y,test_size=0.2,random_state=21)\n",
    "from statsmodels.api import add_constant,OLS\n",
    "xconst = add_constant(xtrain,has_constant='add')\n",
    "ols = OLS(ytrain,xconst).fit()\n",
    "Q = ols.pvalues.sort_values()\n",
    "col_to_drop = Q.index[-1]\n",
    "\n",
    "print(col_to_drop,ols.rsquared_adj)"
   ]
  },
  {
   "cell_type": "code",
   "execution_count": 27,
   "id": "66f530e3",
   "metadata": {},
   "outputs": [
    {
     "name": "stdout",
     "output_type": "stream",
     "text": [
      "Manufacturer_Audi 0.9260719226451212\n"
     ]
    }
   ],
   "source": [
    "from sklearn.model_selection import train_test_split\n",
    "Xnew = Xnew.drop(labels=col_to_drop,axis=1)\n",
    "\n",
    "xtrain,xtest,ytrain,ytest=train_test_split(Xnew,Y,test_size=0.2,random_state=21)\n",
    "from statsmodels.api import add_constant,OLS\n",
    "xconst = add_constant(xtrain,has_constant='add')\n",
    "ols = OLS(ytrain,xconst).fit()\n",
    "Q = ols.pvalues.sort_values()\n",
    "col_to_drop = Q.index[-1]\n",
    "\n",
    "print(col_to_drop,ols.rsquared_adj)"
   ]
  },
  {
   "cell_type": "code",
   "execution_count": 28,
   "id": "5a3fbd53",
   "metadata": {},
   "outputs": [
    {
     "name": "stdout",
     "output_type": "stream",
     "text": [
      "Manufacturer_Acura 0.9290356781147717\n"
     ]
    }
   ],
   "source": [
    "from sklearn.model_selection import train_test_split\n",
    "Xnew = Xnew.drop(labels=col_to_drop,axis=1)\n",
    "\n",
    "xtrain,xtest,ytrain,ytest=train_test_split(Xnew,Y,test_size=0.2,random_state=21)\n",
    "from statsmodels.api import add_constant,OLS\n",
    "xconst = add_constant(xtrain,has_constant='add')\n",
    "ols = OLS(ytrain,xconst).fit()\n",
    "Q = ols.pvalues.sort_values()\n",
    "col_to_drop = Q.index[-1]\n",
    "\n",
    "print(col_to_drop,ols.rsquared_adj)"
   ]
  },
  {
   "cell_type": "code",
   "execution_count": 29,
   "id": "befc33e4",
   "metadata": {},
   "outputs": [
    {
     "name": "stdout",
     "output_type": "stream",
     "text": [
      "Manufacturer_BMW 0.9312207694940933\n"
     ]
    }
   ],
   "source": [
    "from sklearn.model_selection import train_test_split\n",
    "Xnew = Xnew.drop(labels=col_to_drop,axis=1)\n",
    "\n",
    "xtrain,xtest,ytrain,ytest=train_test_split(Xnew,Y,test_size=0.2,random_state=21)\n",
    "from statsmodels.api import add_constant,OLS\n",
    "xconst = add_constant(xtrain,has_constant='add')\n",
    "ols = OLS(ytrain,xconst).fit()\n",
    "Q = ols.pvalues.sort_values()\n",
    "col_to_drop = Q.index[-1]\n",
    "\n",
    "print(col_to_drop,ols.rsquared_adj)"
   ]
  },
  {
   "cell_type": "code",
   "execution_count": 30,
   "id": "9b49d087",
   "metadata": {},
   "outputs": [
    {
     "name": "stdout",
     "output_type": "stream",
     "text": [
      "Manufacturer_Plymouth 0.9337759500190761\n"
     ]
    }
   ],
   "source": [
    "from sklearn.model_selection import train_test_split\n",
    "Xnew = Xnew.drop(labels=col_to_drop,axis=1)\n",
    "\n",
    "xtrain,xtest,ytrain,ytest=train_test_split(Xnew,Y,test_size=0.2,random_state=21)\n",
    "from statsmodels.api import add_constant,OLS\n",
    "xconst = add_constant(xtrain,has_constant='add')\n",
    "ols = OLS(ytrain,xconst).fit()\n",
    "Q = ols.pvalues.sort_values()\n",
    "col_to_drop = Q.index[-1]\n",
    "\n",
    "print(col_to_drop,ols.rsquared_adj)"
   ]
  },
  {
   "cell_type": "code",
   "execution_count": 31,
   "id": "cd20900e",
   "metadata": {},
   "outputs": [
    {
     "name": "stdout",
     "output_type": "stream",
     "text": [
      "Manufacturer_Suzuki 0.9362338353751156\n"
     ]
    }
   ],
   "source": [
    "from sklearn.model_selection import train_test_split\n",
    "Xnew = Xnew.drop(labels=col_to_drop,axis=1)\n",
    "\n",
    "xtrain,xtest,ytrain,ytest=train_test_split(Xnew,Y,test_size=0.2,random_state=21)\n",
    "from statsmodels.api import add_constant,OLS\n",
    "xconst = add_constant(xtrain,has_constant='add')\n",
    "ols = OLS(ytrain,xconst).fit()\n",
    "Q = ols.pvalues.sort_values()\n",
    "col_to_drop = Q.index[-1]\n",
    "\n",
    "print(col_to_drop,ols.rsquared_adj)"
   ]
  },
  {
   "cell_type": "code",
   "execution_count": 32,
   "id": "5e3f479b",
   "metadata": {},
   "outputs": [
    {
     "name": "stdout",
     "output_type": "stream",
     "text": [
      "Manufacturer_Honda 0.9383521195450862\n"
     ]
    }
   ],
   "source": [
    "from sklearn.model_selection import train_test_split\n",
    "Xnew = Xnew.drop(labels=col_to_drop,axis=1)\n",
    "\n",
    "xtrain,xtest,ytrain,ytest=train_test_split(Xnew,Y,test_size=0.2,random_state=21)\n",
    "from statsmodels.api import add_constant,OLS\n",
    "xconst = add_constant(xtrain,has_constant='add')\n",
    "ols = OLS(ytrain,xconst).fit()\n",
    "Q = ols.pvalues.sort_values()\n",
    "col_to_drop = Q.index[-1]\n",
    "\n",
    "print(col_to_drop,ols.rsquared_adj)"
   ]
  },
  {
   "cell_type": "code",
   "execution_count": 33,
   "id": "f36efdab",
   "metadata": {},
   "outputs": [
    {
     "name": "stdout",
     "output_type": "stream",
     "text": [
      "Manufacturer_Toyota 0.9405582569067071\n"
     ]
    }
   ],
   "source": [
    "from sklearn.model_selection import train_test_split\n",
    "Xnew = Xnew.drop(labels=col_to_drop,axis=1)\n",
    "\n",
    "xtrain,xtest,ytrain,ytest=train_test_split(Xnew,Y,test_size=0.2,random_state=21)\n",
    "from statsmodels.api import add_constant,OLS\n",
    "xconst = add_constant(xtrain,has_constant='add')\n",
    "ols = OLS(ytrain,xconst).fit()\n",
    "Q = ols.pvalues.sort_values()\n",
    "col_to_drop = Q.index[-1]\n",
    "\n",
    "print(col_to_drop,ols.rsquared_adj)"
   ]
  },
  {
   "cell_type": "code",
   "execution_count": 34,
   "id": "2b82b435",
   "metadata": {},
   "outputs": [
    {
     "name": "stdout",
     "output_type": "stream",
     "text": [
      "Manufacturer_Mitsubishi 0.9410428969790272\n"
     ]
    }
   ],
   "source": [
    "from sklearn.model_selection import train_test_split\n",
    "Xnew = Xnew.drop(labels=col_to_drop,axis=1)\n",
    "\n",
    "xtrain,xtest,ytrain,ytest=train_test_split(Xnew,Y,test_size=0.2,random_state=21)\n",
    "from statsmodels.api import add_constant,OLS\n",
    "xconst = add_constant(xtrain,has_constant='add')\n",
    "ols = OLS(ytrain,xconst).fit()\n",
    "Q = ols.pvalues.sort_values()\n",
    "col_to_drop = Q.index[-1]\n",
    "\n",
    "print(col_to_drop,ols.rsquared_adj)"
   ]
  },
  {
   "cell_type": "code",
   "execution_count": 35,
   "id": "d2c6c944",
   "metadata": {},
   "outputs": [
    {
     "data": {
      "text/html": [
       "<table class=\"simpletable\">\n",
       "<caption>OLS Regression Results</caption>\n",
       "<tr>\n",
       "  <th>Dep. Variable:</th>         <td>Length</td>      <th>  R-squared:         </th> <td>   0.980</td>\n",
       "</tr>\n",
       "<tr>\n",
       "  <th>Model:</th>                   <td>OLS</td>       <th>  Adj. R-squared:    </th> <td>   0.941</td>\n",
       "</tr>\n",
       "<tr>\n",
       "  <th>Method:</th>             <td>Least Squares</td>  <th>  F-statistic:       </th> <td>   25.12</td>\n",
       "</tr>\n",
       "<tr>\n",
       "  <th>Date:</th>             <td>Sun, 18 Dec 2022</td> <th>  Prob (F-statistic):</th> <td>5.01e-12</td>\n",
       "</tr>\n",
       "<tr>\n",
       "  <th>Time:</th>                 <td>01:24:12</td>     <th>  Log-Likelihood:    </th> <td> -140.77</td>\n",
       "</tr>\n",
       "<tr>\n",
       "  <th>No. Observations:</th>      <td>    69</td>      <th>  AIC:               </th> <td>   373.5</td>\n",
       "</tr>\n",
       "<tr>\n",
       "  <th>Df Residuals:</th>          <td>    23</td>      <th>  BIC:               </th> <td>   476.3</td>\n",
       "</tr>\n",
       "<tr>\n",
       "  <th>Df Model:</th>              <td>    45</td>      <th>                     </th>     <td> </td>   \n",
       "</tr>\n",
       "<tr>\n",
       "  <th>Covariance Type:</th>      <td>nonrobust</td>    <th>                     </th>     <td> </td>   \n",
       "</tr>\n",
       "</table>\n",
       "<table class=\"simpletable\">\n",
       "<tr>\n",
       "               <td></td>                 <th>coef</th>     <th>std err</th>      <th>t</th>      <th>P>|t|</th>  <th>[0.025</th>    <th>0.975]</th>  \n",
       "</tr>\n",
       "<tr>\n",
       "  <th>const</th>                      <td>   60.4267</td> <td>    1.250</td> <td>   48.322</td> <td> 0.000</td> <td>   57.840</td> <td>   63.014</td>\n",
       "</tr>\n",
       "<tr>\n",
       "  <th>Min.Price</th>                  <td>  291.3238</td> <td>   99.836</td> <td>    2.918</td> <td> 0.008</td> <td>   84.798</td> <td>  497.850</td>\n",
       "</tr>\n",
       "<tr>\n",
       "  <th>Price</th>                      <td> -585.9394</td> <td>  205.884</td> <td>   -2.846</td> <td> 0.009</td> <td>-1011.843</td> <td> -160.036</td>\n",
       "</tr>\n",
       "<tr>\n",
       "  <th>Max.Price</th>                  <td>  309.9262</td> <td>  111.523</td> <td>    2.779</td> <td> 0.011</td> <td>   79.223</td> <td>  540.630</td>\n",
       "</tr>\n",
       "<tr>\n",
       "  <th>MPG.city</th>                   <td>   -4.0373</td> <td>    2.539</td> <td>   -1.590</td> <td> 0.125</td> <td>   -9.290</td> <td>    1.215</td>\n",
       "</tr>\n",
       "<tr>\n",
       "  <th>MPG.highway</th>                <td>    8.9133</td> <td>    2.517</td> <td>    3.541</td> <td> 0.002</td> <td>    3.707</td> <td>   14.120</td>\n",
       "</tr>\n",
       "<tr>\n",
       "  <th>EngineSize</th>                 <td>   -8.6116</td> <td>    2.497</td> <td>   -3.449</td> <td> 0.002</td> <td>  -13.777</td> <td>   -3.446</td>\n",
       "</tr>\n",
       "<tr>\n",
       "  <th>Horsepower</th>                 <td>    4.0357</td> <td>    2.152</td> <td>    1.875</td> <td> 0.073</td> <td>   -0.416</td> <td>    8.487</td>\n",
       "</tr>\n",
       "<tr>\n",
       "  <th>RPM</th>                        <td>   -5.9165</td> <td>    1.551</td> <td>   -3.815</td> <td> 0.001</td> <td>   -9.124</td> <td>   -2.709</td>\n",
       "</tr>\n",
       "<tr>\n",
       "  <th>Fuel.tank.capacity</th>         <td>   -3.4772</td> <td>    1.545</td> <td>   -2.250</td> <td> 0.034</td> <td>   -6.674</td> <td>   -0.281</td>\n",
       "</tr>\n",
       "<tr>\n",
       "  <th>Wheelbase</th>                  <td>    3.7212</td> <td>    1.885</td> <td>    1.974</td> <td> 0.060</td> <td>   -0.178</td> <td>    7.620</td>\n",
       "</tr>\n",
       "<tr>\n",
       "  <th>Width</th>                      <td>    9.4858</td> <td>    1.989</td> <td>    4.769</td> <td> 0.000</td> <td>    5.371</td> <td>   13.600</td>\n",
       "</tr>\n",
       "<tr>\n",
       "  <th>Turn.circle</th>                <td>    3.5107</td> <td>    1.716</td> <td>    2.046</td> <td> 0.052</td> <td>   -0.039</td> <td>    7.060</td>\n",
       "</tr>\n",
       "<tr>\n",
       "  <th>Rear.seat.room</th>             <td>    2.2914</td> <td>    1.252</td> <td>    1.830</td> <td> 0.080</td> <td>   -0.299</td> <td>    4.882</td>\n",
       "</tr>\n",
       "<tr>\n",
       "  <th>Weight</th>                     <td>    6.3367</td> <td>    2.966</td> <td>    2.136</td> <td> 0.044</td> <td>    0.201</td> <td>   12.472</td>\n",
       "</tr>\n",
       "<tr>\n",
       "  <th>Manufacturer_Buick</th>         <td>    3.5025</td> <td>    2.887</td> <td>    1.213</td> <td> 0.237</td> <td>   -2.469</td> <td>    9.474</td>\n",
       "</tr>\n",
       "<tr>\n",
       "  <th>Manufacturer_Chrylser</th>      <td>   14.0855</td> <td>    5.204</td> <td>    2.707</td> <td> 0.013</td> <td>    3.321</td> <td>   24.850</td>\n",
       "</tr>\n",
       "<tr>\n",
       "  <th>Manufacturer_Chrysler</th>      <td>    9.8950</td> <td>    6.267</td> <td>    1.579</td> <td> 0.128</td> <td>   -3.070</td> <td>   22.860</td>\n",
       "</tr>\n",
       "<tr>\n",
       "  <th>Manufacturer_Dodge</th>         <td>    9.7196</td> <td>    3.694</td> <td>    2.631</td> <td> 0.015</td> <td>    2.079</td> <td>   17.361</td>\n",
       "</tr>\n",
       "<tr>\n",
       "  <th>Manufacturer_Eagle</th>         <td>   15.2370</td> <td>    4.075</td> <td>    3.739</td> <td> 0.001</td> <td>    6.807</td> <td>   23.667</td>\n",
       "</tr>\n",
       "<tr>\n",
       "  <th>Manufacturer_Ford</th>          <td>    4.4748</td> <td>    3.269</td> <td>    1.369</td> <td> 0.184</td> <td>   -2.287</td> <td>   11.237</td>\n",
       "</tr>\n",
       "<tr>\n",
       "  <th>Manufacturer_Geo</th>           <td>  -11.0255</td> <td>    4.344</td> <td>   -2.538</td> <td> 0.018</td> <td>  -20.013</td> <td>   -2.039</td>\n",
       "</tr>\n",
       "<tr>\n",
       "  <th>Manufacturer_Mazda</th>         <td>  -12.3270</td> <td>    3.079</td> <td>   -4.003</td> <td> 0.001</td> <td>  -18.697</td> <td>   -5.957</td>\n",
       "</tr>\n",
       "<tr>\n",
       "  <th>Manufacturer_Mercedes-Benz</th> <td>  -23.7391</td> <td>    6.245</td> <td>   -3.801</td> <td> 0.001</td> <td>  -36.657</td> <td>  -10.821</td>\n",
       "</tr>\n",
       "<tr>\n",
       "  <th>Manufacturer_Mercury</th>       <td> 1.935e-12</td> <td> 6.82e-13</td> <td>    2.837</td> <td> 0.009</td> <td> 5.24e-13</td> <td> 3.35e-12</td>\n",
       "</tr>\n",
       "<tr>\n",
       "  <th>Manufacturer_Mitsubishi</th>    <td>    3.8203</td> <td>    3.305</td> <td>    1.156</td> <td> 0.260</td> <td>   -3.017</td> <td>   10.658</td>\n",
       "</tr>\n",
       "<tr>\n",
       "  <th>Manufacturer_Nissan</th>        <td>    3.9194</td> <td>    2.622</td> <td>    1.495</td> <td> 0.149</td> <td>   -1.505</td> <td>    9.344</td>\n",
       "</tr>\n",
       "<tr>\n",
       "  <th>Manufacturer_Oldsmobile</th>    <td>    7.9447</td> <td>    2.648</td> <td>    3.001</td> <td> 0.006</td> <td>    2.468</td> <td>   13.422</td>\n",
       "</tr>\n",
       "<tr>\n",
       "  <th>Manufacturer_Pontiac</th>       <td>   -7.0830</td> <td>    2.852</td> <td>   -2.484</td> <td> 0.021</td> <td>  -12.982</td> <td>   -1.184</td>\n",
       "</tr>\n",
       "<tr>\n",
       "  <th>Manufacturer_Saab</th>          <td>   28.4693</td> <td>    6.089</td> <td>    4.676</td> <td> 0.000</td> <td>   15.874</td> <td>   41.065</td>\n",
       "</tr>\n",
       "<tr>\n",
       "  <th>Manufacturer_Saturn</th>        <td>   -8.0622</td> <td>    5.185</td> <td>   -1.555</td> <td> 0.134</td> <td>  -18.788</td> <td>    2.664</td>\n",
       "</tr>\n",
       "<tr>\n",
       "  <th>Manufacturer_Volkswagen</th>    <td>   -3.9647</td> <td>    2.898</td> <td>   -1.368</td> <td> 0.184</td> <td>   -9.959</td> <td>    2.029</td>\n",
       "</tr>\n",
       "<tr>\n",
       "  <th>Type_Compact</th>               <td>   18.1601</td> <td>    1.842</td> <td>    9.861</td> <td> 0.000</td> <td>   14.350</td> <td>   21.970</td>\n",
       "</tr>\n",
       "<tr>\n",
       "  <th>Type_Large</th>                 <td>    7.0602</td> <td>    3.299</td> <td>    2.140</td> <td> 0.043</td> <td>    0.235</td> <td>   13.886</td>\n",
       "</tr>\n",
       "<tr>\n",
       "  <th>Type_Midsize</th>               <td>   15.9230</td> <td>    1.210</td> <td>   13.160</td> <td> 0.000</td> <td>   13.420</td> <td>   18.426</td>\n",
       "</tr>\n",
       "<tr>\n",
       "  <th>Type_Small</th>                 <td>   14.0640</td> <td>    2.941</td> <td>    4.782</td> <td> 0.000</td> <td>    7.980</td> <td>   20.148</td>\n",
       "</tr>\n",
       "<tr>\n",
       "  <th>Type_Sporty</th>                <td>   11.0564</td> <td>    2.855</td> <td>    3.873</td> <td> 0.001</td> <td>    5.151</td> <td>   16.962</td>\n",
       "</tr>\n",
       "<tr>\n",
       "  <th>Type_Van</th>                   <td>   -5.8371</td> <td>    3.239</td> <td>   -1.802</td> <td> 0.085</td> <td>  -12.537</td> <td>    0.863</td>\n",
       "</tr>\n",
       "<tr>\n",
       "  <th>AirBags_Driver & Passenger</th> <td>   16.0479</td> <td>    1.824</td> <td>    8.800</td> <td> 0.000</td> <td>   12.276</td> <td>   19.820</td>\n",
       "</tr>\n",
       "<tr>\n",
       "  <th>AirBags_Driver only</th>        <td>   18.3243</td> <td>    1.120</td> <td>   16.368</td> <td> 0.000</td> <td>   16.008</td> <td>   20.640</td>\n",
       "</tr>\n",
       "<tr>\n",
       "  <th>AirBags_None</th>               <td>   26.0544</td> <td>    1.640</td> <td>   15.886</td> <td> 0.000</td> <td>   22.662</td> <td>   29.447</td>\n",
       "</tr>\n",
       "<tr>\n",
       "  <th>DriveTrain_4WD</th>             <td>   19.0180</td> <td>    1.486</td> <td>   12.796</td> <td> 0.000</td> <td>   15.944</td> <td>   22.093</td>\n",
       "</tr>\n",
       "<tr>\n",
       "  <th>DriveTrain_Front</th>           <td>   16.1307</td> <td>    1.444</td> <td>   11.174</td> <td> 0.000</td> <td>   13.145</td> <td>   19.117</td>\n",
       "</tr>\n",
       "<tr>\n",
       "  <th>DriveTrain_Rear</th>            <td>   25.2779</td> <td>    1.292</td> <td>   19.570</td> <td> 0.000</td> <td>   22.606</td> <td>   27.950</td>\n",
       "</tr>\n",
       "<tr>\n",
       "  <th>Cylinders_4</th>                <td>   10.3706</td> <td>    3.676</td> <td>    2.821</td> <td> 0.010</td> <td>    2.766</td> <td>   17.975</td>\n",
       "</tr>\n",
       "<tr>\n",
       "  <th>Cylinders_5</th>                <td>   17.1303</td> <td>    6.038</td> <td>    2.837</td> <td> 0.009</td> <td>    4.641</td> <td>   29.620</td>\n",
       "</tr>\n",
       "<tr>\n",
       "  <th>Cylinders_6</th>                <td>   10.5443</td> <td>    4.980</td> <td>    2.118</td> <td> 0.045</td> <td>    0.243</td> <td>   20.845</td>\n",
       "</tr>\n",
       "<tr>\n",
       "  <th>Cylinders_8</th>                <td>   20.2564</td> <td>    6.721</td> <td>    3.014</td> <td> 0.006</td> <td>    6.354</td> <td>   34.159</td>\n",
       "</tr>\n",
       "<tr>\n",
       "  <th>Man.trans.avail_No</th>         <td>   27.9245</td> <td>    1.409</td> <td>   19.819</td> <td> 0.000</td> <td>   25.010</td> <td>   30.839</td>\n",
       "</tr>\n",
       "<tr>\n",
       "  <th>Man.trans.avail_Yes</th>        <td>   32.5022</td> <td>    1.310</td> <td>   24.815</td> <td> 0.000</td> <td>   29.793</td> <td>   35.212</td>\n",
       "</tr>\n",
       "<tr>\n",
       "  <th>Origin_USA</th>                 <td>   27.7725</td> <td>    1.696</td> <td>   16.372</td> <td> 0.000</td> <td>   24.263</td> <td>   31.282</td>\n",
       "</tr>\n",
       "<tr>\n",
       "  <th>Origin_non-USA</th>             <td>   32.6541</td> <td>    1.592</td> <td>   20.513</td> <td> 0.000</td> <td>   29.361</td> <td>   35.947</td>\n",
       "</tr>\n",
       "</table>\n",
       "<table class=\"simpletable\">\n",
       "<tr>\n",
       "  <th>Omnibus:</th>       <td> 1.073</td> <th>  Durbin-Watson:     </th> <td>   2.415</td>\n",
       "</tr>\n",
       "<tr>\n",
       "  <th>Prob(Omnibus):</th> <td> 0.585</td> <th>  Jarque-Bera (JB):  </th> <td>   1.062</td>\n",
       "</tr>\n",
       "<tr>\n",
       "  <th>Skew:</th>          <td> 0.284</td> <th>  Prob(JB):          </th> <td>   0.588</td>\n",
       "</tr>\n",
       "<tr>\n",
       "  <th>Kurtosis:</th>      <td> 2.784</td> <th>  Cond. No.          </th> <td>2.52e+16</td>\n",
       "</tr>\n",
       "</table><br/><br/>Notes:<br/>[1] Standard Errors assume that the covariance matrix of the errors is correctly specified.<br/>[2] The smallest eigenvalue is 9.58e-31. This might indicate that there are<br/>strong multicollinearity problems or that the design matrix is singular."
      ],
      "text/plain": [
       "<class 'statsmodels.iolib.summary.Summary'>\n",
       "\"\"\"\n",
       "                            OLS Regression Results                            \n",
       "==============================================================================\n",
       "Dep. Variable:                 Length   R-squared:                       0.980\n",
       "Model:                            OLS   Adj. R-squared:                  0.941\n",
       "Method:                 Least Squares   F-statistic:                     25.12\n",
       "Date:                Sun, 18 Dec 2022   Prob (F-statistic):           5.01e-12\n",
       "Time:                        01:24:12   Log-Likelihood:                -140.77\n",
       "No. Observations:                  69   AIC:                             373.5\n",
       "Df Residuals:                      23   BIC:                             476.3\n",
       "Df Model:                          45                                         \n",
       "Covariance Type:            nonrobust                                         \n",
       "==============================================================================================\n",
       "                                 coef    std err          t      P>|t|      [0.025      0.975]\n",
       "----------------------------------------------------------------------------------------------\n",
       "const                         60.4267      1.250     48.322      0.000      57.840      63.014\n",
       "Min.Price                    291.3238     99.836      2.918      0.008      84.798     497.850\n",
       "Price                       -585.9394    205.884     -2.846      0.009   -1011.843    -160.036\n",
       "Max.Price                    309.9262    111.523      2.779      0.011      79.223     540.630\n",
       "MPG.city                      -4.0373      2.539     -1.590      0.125      -9.290       1.215\n",
       "MPG.highway                    8.9133      2.517      3.541      0.002       3.707      14.120\n",
       "EngineSize                    -8.6116      2.497     -3.449      0.002     -13.777      -3.446\n",
       "Horsepower                     4.0357      2.152      1.875      0.073      -0.416       8.487\n",
       "RPM                           -5.9165      1.551     -3.815      0.001      -9.124      -2.709\n",
       "Fuel.tank.capacity            -3.4772      1.545     -2.250      0.034      -6.674      -0.281\n",
       "Wheelbase                      3.7212      1.885      1.974      0.060      -0.178       7.620\n",
       "Width                          9.4858      1.989      4.769      0.000       5.371      13.600\n",
       "Turn.circle                    3.5107      1.716      2.046      0.052      -0.039       7.060\n",
       "Rear.seat.room                 2.2914      1.252      1.830      0.080      -0.299       4.882\n",
       "Weight                         6.3367      2.966      2.136      0.044       0.201      12.472\n",
       "Manufacturer_Buick             3.5025      2.887      1.213      0.237      -2.469       9.474\n",
       "Manufacturer_Chrylser         14.0855      5.204      2.707      0.013       3.321      24.850\n",
       "Manufacturer_Chrysler          9.8950      6.267      1.579      0.128      -3.070      22.860\n",
       "Manufacturer_Dodge             9.7196      3.694      2.631      0.015       2.079      17.361\n",
       "Manufacturer_Eagle            15.2370      4.075      3.739      0.001       6.807      23.667\n",
       "Manufacturer_Ford              4.4748      3.269      1.369      0.184      -2.287      11.237\n",
       "Manufacturer_Geo             -11.0255      4.344     -2.538      0.018     -20.013      -2.039\n",
       "Manufacturer_Mazda           -12.3270      3.079     -4.003      0.001     -18.697      -5.957\n",
       "Manufacturer_Mercedes-Benz   -23.7391      6.245     -3.801      0.001     -36.657     -10.821\n",
       "Manufacturer_Mercury        1.935e-12   6.82e-13      2.837      0.009    5.24e-13    3.35e-12\n",
       "Manufacturer_Mitsubishi        3.8203      3.305      1.156      0.260      -3.017      10.658\n",
       "Manufacturer_Nissan            3.9194      2.622      1.495      0.149      -1.505       9.344\n",
       "Manufacturer_Oldsmobile        7.9447      2.648      3.001      0.006       2.468      13.422\n",
       "Manufacturer_Pontiac          -7.0830      2.852     -2.484      0.021     -12.982      -1.184\n",
       "Manufacturer_Saab             28.4693      6.089      4.676      0.000      15.874      41.065\n",
       "Manufacturer_Saturn           -8.0622      5.185     -1.555      0.134     -18.788       2.664\n",
       "Manufacturer_Volkswagen       -3.9647      2.898     -1.368      0.184      -9.959       2.029\n",
       "Type_Compact                  18.1601      1.842      9.861      0.000      14.350      21.970\n",
       "Type_Large                     7.0602      3.299      2.140      0.043       0.235      13.886\n",
       "Type_Midsize                  15.9230      1.210     13.160      0.000      13.420      18.426\n",
       "Type_Small                    14.0640      2.941      4.782      0.000       7.980      20.148\n",
       "Type_Sporty                   11.0564      2.855      3.873      0.001       5.151      16.962\n",
       "Type_Van                      -5.8371      3.239     -1.802      0.085     -12.537       0.863\n",
       "AirBags_Driver & Passenger    16.0479      1.824      8.800      0.000      12.276      19.820\n",
       "AirBags_Driver only           18.3243      1.120     16.368      0.000      16.008      20.640\n",
       "AirBags_None                  26.0544      1.640     15.886      0.000      22.662      29.447\n",
       "DriveTrain_4WD                19.0180      1.486     12.796      0.000      15.944      22.093\n",
       "DriveTrain_Front              16.1307      1.444     11.174      0.000      13.145      19.117\n",
       "DriveTrain_Rear               25.2779      1.292     19.570      0.000      22.606      27.950\n",
       "Cylinders_4                   10.3706      3.676      2.821      0.010       2.766      17.975\n",
       "Cylinders_5                   17.1303      6.038      2.837      0.009       4.641      29.620\n",
       "Cylinders_6                   10.5443      4.980      2.118      0.045       0.243      20.845\n",
       "Cylinders_8                   20.2564      6.721      3.014      0.006       6.354      34.159\n",
       "Man.trans.avail_No            27.9245      1.409     19.819      0.000      25.010      30.839\n",
       "Man.trans.avail_Yes           32.5022      1.310     24.815      0.000      29.793      35.212\n",
       "Origin_USA                    27.7725      1.696     16.372      0.000      24.263      31.282\n",
       "Origin_non-USA                32.6541      1.592     20.513      0.000      29.361      35.947\n",
       "==============================================================================\n",
       "Omnibus:                        1.073   Durbin-Watson:                   2.415\n",
       "Prob(Omnibus):                  0.585   Jarque-Bera (JB):                1.062\n",
       "Skew:                           0.284   Prob(JB):                        0.588\n",
       "Kurtosis:                       2.784   Cond. No.                     2.52e+16\n",
       "==============================================================================\n",
       "\n",
       "Notes:\n",
       "[1] Standard Errors assume that the covariance matrix of the errors is correctly specified.\n",
       "[2] The smallest eigenvalue is 9.58e-31. This might indicate that there are\n",
       "strong multicollinearity problems or that the design matrix is singular.\n",
       "\"\"\""
      ]
     },
     "execution_count": 35,
     "metadata": {},
     "output_type": "execute_result"
    }
   ],
   "source": [
    "ols.summary()"
   ]
  },
  {
   "cell_type": "code",
   "execution_count": 36,
   "id": "40fcb08e",
   "metadata": {},
   "outputs": [
    {
     "name": "stdout",
     "output_type": "stream",
     "text": [
      "Manufacturer_Buick 0.9402179975552682\n"
     ]
    }
   ],
   "source": [
    "from sklearn.model_selection import train_test_split\n",
    "Xnew = Xnew.drop(labels=col_to_drop,axis=1)\n",
    "\n",
    "xtrain,xtest,ytrain,ytest=train_test_split(Xnew,Y,test_size=0.2,random_state=21)\n",
    "from statsmodels.api import add_constant,OLS\n",
    "xconst = add_constant(xtrain,has_constant='add')\n",
    "ols = OLS(ytrain,xconst).fit()\n",
    "Q = ols.pvalues.sort_values()\n",
    "col_to_drop = Q.index[-1]\n",
    "\n",
    "print(col_to_drop,ols.rsquared_adj)"
   ]
  },
  {
   "cell_type": "code",
   "execution_count": 37,
   "id": "8ee15739",
   "metadata": {},
   "outputs": [
    {
     "name": "stdout",
     "output_type": "stream",
     "text": [
      "Manufacturer_Ford 0.9402236273614535\n"
     ]
    }
   ],
   "source": [
    "from sklearn.model_selection import train_test_split\n",
    "Xnew = Xnew.drop(labels=col_to_drop,axis=1)\n",
    "\n",
    "xtrain,xtest,ytrain,ytest=train_test_split(Xnew,Y,test_size=0.2,random_state=21)\n",
    "from statsmodels.api import add_constant,OLS\n",
    "xconst = add_constant(xtrain,has_constant='add')\n",
    "ols = OLS(ytrain,xconst).fit()\n",
    "Q = ols.pvalues.sort_values()\n",
    "col_to_drop = Q.index[-1]\n",
    "\n",
    "print(col_to_drop,ols.rsquared_adj)"
   ]
  },
  {
   "cell_type": "code",
   "execution_count": 38,
   "id": "651c97df",
   "metadata": {},
   "outputs": [
    {
     "name": "stdout",
     "output_type": "stream",
     "text": [
      "Manufacturer_Volkswagen 0.9402545460161583\n"
     ]
    }
   ],
   "source": [
    "from sklearn.model_selection import train_test_split\n",
    "Xnew = Xnew.drop(labels=col_to_drop,axis=1)\n",
    "\n",
    "xtrain,xtest,ytrain,ytest=train_test_split(Xnew,Y,test_size=0.2,random_state=21)\n",
    "from statsmodels.api import add_constant,OLS\n",
    "xconst = add_constant(xtrain,has_constant='add')\n",
    "ols = OLS(ytrain,xconst).fit()\n",
    "Q = ols.pvalues.sort_values()\n",
    "col_to_drop = Q.index[-1]\n",
    "\n",
    "print(col_to_drop,ols.rsquared_adj)"
   ]
  },
  {
   "cell_type": "code",
   "execution_count": 39,
   "id": "b89e76ae",
   "metadata": {},
   "outputs": [
    {
     "name": "stdout",
     "output_type": "stream",
     "text": [
      "Manufacturer_Chrysler 0.9399806970129198\n"
     ]
    }
   ],
   "source": [
    "from sklearn.model_selection import train_test_split\n",
    "Xnew = Xnew.drop(labels=col_to_drop,axis=1)\n",
    "\n",
    "xtrain,xtest,ytrain,ytest=train_test_split(Xnew,Y,test_size=0.2,random_state=21)\n",
    "from statsmodels.api import add_constant,OLS\n",
    "xconst = add_constant(xtrain,has_constant='add')\n",
    "ols = OLS(ytrain,xconst).fit()\n",
    "Q = ols.pvalues.sort_values()\n",
    "col_to_drop = Q.index[-1]\n",
    "\n",
    "print(col_to_drop,ols.rsquared_adj)"
   ]
  },
  {
   "cell_type": "code",
   "execution_count": 40,
   "id": "c290fbb0",
   "metadata": {},
   "outputs": [
    {
     "name": "stdout",
     "output_type": "stream",
     "text": [
      "MPG.city 0.9398655869996383\n"
     ]
    }
   ],
   "source": [
    "from sklearn.model_selection import train_test_split\n",
    "Xnew = Xnew.drop(labels=col_to_drop,axis=1)\n",
    "\n",
    "xtrain,xtest,ytrain,ytest=train_test_split(Xnew,Y,test_size=0.2,random_state=21)\n",
    "from statsmodels.api import add_constant,OLS\n",
    "xconst = add_constant(xtrain,has_constant='add')\n",
    "ols = OLS(ytrain,xconst).fit()\n",
    "Q = ols.pvalues.sort_values()\n",
    "col_to_drop = Q.index[-1]\n",
    "\n",
    "print(col_to_drop,ols.rsquared_adj)"
   ]
  },
  {
   "cell_type": "code",
   "execution_count": 41,
   "id": "2e9ab851",
   "metadata": {},
   "outputs": [
    {
     "name": "stdout",
     "output_type": "stream",
     "text": [
      "Manufacturer_Nissan 0.940630511832877\n"
     ]
    }
   ],
   "source": [
    "from sklearn.model_selection import train_test_split\n",
    "Xnew = Xnew.drop(labels=col_to_drop,axis=1)\n",
    "\n",
    "xtrain,xtest,ytrain,ytest=train_test_split(Xnew,Y,test_size=0.2,random_state=21)\n",
    "from statsmodels.api import add_constant,OLS\n",
    "xconst = add_constant(xtrain,has_constant='add')\n",
    "ols = OLS(ytrain,xconst).fit()\n",
    "Q = ols.pvalues.sort_values()\n",
    "col_to_drop = Q.index[-1]\n",
    "\n",
    "print(col_to_drop,ols.rsquared_adj)"
   ]
  },
  {
   "cell_type": "code",
   "execution_count": 42,
   "id": "bb0a7550",
   "metadata": {},
   "outputs": [
    {
     "name": "stdout",
     "output_type": "stream",
     "text": [
      "Manufacturer_Dodge 0.9374705506959125\n"
     ]
    }
   ],
   "source": [
    "from sklearn.model_selection import train_test_split\n",
    "Xnew = Xnew.drop(labels=col_to_drop,axis=1)\n",
    "\n",
    "xtrain,xtest,ytrain,ytest=train_test_split(Xnew,Y,test_size=0.2,random_state=21)\n",
    "from statsmodels.api import add_constant,OLS\n",
    "xconst = add_constant(xtrain,has_constant='add')\n",
    "ols = OLS(ytrain,xconst).fit()\n",
    "Q = ols.pvalues.sort_values()\n",
    "col_to_drop = Q.index[-1]\n",
    "\n",
    "print(col_to_drop,ols.rsquared_adj)"
   ]
  },
  {
   "cell_type": "code",
   "execution_count": 43,
   "id": "7828783d",
   "metadata": {},
   "outputs": [
    {
     "name": "stdout",
     "output_type": "stream",
     "text": [
      "Manufacturer_Chrylser 0.9328713974573764\n"
     ]
    }
   ],
   "source": [
    "from sklearn.model_selection import train_test_split\n",
    "Xnew = Xnew.drop(labels=col_to_drop,axis=1)\n",
    "\n",
    "xtrain,xtest,ytrain,ytest=train_test_split(Xnew,Y,test_size=0.2,random_state=21)\n",
    "from statsmodels.api import add_constant,OLS\n",
    "xconst = add_constant(xtrain,has_constant='add')\n",
    "ols = OLS(ytrain,xconst).fit()\n",
    "Q = ols.pvalues.sort_values()\n",
    "col_to_drop = Q.index[-1]\n",
    "\n",
    "print(col_to_drop,ols.rsquared_adj)"
   ]
  },
  {
   "cell_type": "code",
   "execution_count": 44,
   "id": "eca8c1a3",
   "metadata": {},
   "outputs": [
    {
     "name": "stdout",
     "output_type": "stream",
     "text": [
      "Manufacturer_Oldsmobile 0.9294943723423527\n"
     ]
    }
   ],
   "source": [
    "from sklearn.model_selection import train_test_split\n",
    "Xnew = Xnew.drop(labels=col_to_drop,axis=1)\n",
    "\n",
    "xtrain,xtest,ytrain,ytest=train_test_split(Xnew,Y,test_size=0.2,random_state=21)\n",
    "from statsmodels.api import add_constant,OLS\n",
    "xconst = add_constant(xtrain,has_constant='add')\n",
    "ols = OLS(ytrain,xconst).fit()\n",
    "Q = ols.pvalues.sort_values()\n",
    "col_to_drop = Q.index[-1]\n",
    "\n",
    "print(col_to_drop,ols.rsquared_adj)"
   ]
  },
  {
   "cell_type": "code",
   "execution_count": null,
   "id": "32483e5e",
   "metadata": {},
   "outputs": [],
   "source": []
  }
 ],
 "metadata": {
  "kernelspec": {
   "display_name": "Python 3",
   "language": "python",
   "name": "python3"
  },
  "language_info": {
   "codemirror_mode": {
    "name": "ipython",
    "version": 3
   },
   "file_extension": ".py",
   "mimetype": "text/x-python",
   "name": "python",
   "nbconvert_exporter": "python",
   "pygments_lexer": "ipython3",
   "version": "3.8.8"
  }
 },
 "nbformat": 4,
 "nbformat_minor": 5
}
